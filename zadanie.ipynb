{
 "cells": [
  {
   "cell_type": "markdown",
   "id": "bec03950",
   "metadata": {},
   "source": [
    "![Alt Text](axpo-animated.gif)\n",
    "# Witamy na rozmowie rekrutacyjnej\n",
    "## na stanowisko: **Financial Data Analyst** w **Axpo Polska**\n",
    "\n",
    "Cieszymy się, że zdecydowałeś/aś się wziąć udział w naszym procesie rekrutacyjnym. Przedstawiamy Ci case study, w którym będziesz mógł/mogła zaprezentować swoje umiejętności analityczne:\n",
    "\n",
    "---\n",
    "\n",
    "## Opis Case Study\n",
    "\n",
    "W naszej bazie danych znajdują się trzy kluczowe tabele:\n",
    "\n",
    "- **Customers**: Zawiera dane teleadresowe klientów, w tym imię, nazwisko, adres, numer telefonu i adres e-mail.\n",
    "- **Usage**: Rejestruje odczyty dzienne zużyć mediów (energii elektrycznej i gazu) przez klientów.\n",
    "- **Invoices**: Zawiera informacje o fakturach wystawionych klientom, w tym dane dotyczące zużycia oraz kwoty do zapłaty. Numery faktur są unikatowe, tak samo jak nazwy punktów poboru wewnątrz umowy. \n",
    "\n",
    "Twoim zadaniem jako analityka danych jest **sprawdzenie poprawności zafakturowania**. Podejrzewasz, że przynajmniej jedna faktura została wystawiona na podstawie błędnych danych dotyczących zużycia.\n",
    "\n",
    "---\n",
    "\n",
    "## Zadania do Wykonania\n",
    "   - Wywołaj komórkę poniżej - wygeneruje ona unikatową bazę danych \n",
    "   - Przeanalizuj tabelę `invoices` i porównaj odnotowane zużycie z danymi zawartymi na fakturach w tabeli `usage`.\n",
    "   - Znajdź konkretny przypadek (lub przypadki), w którym dane z tabeli `usage` nie odpowiadają wartościom na fakturze.\n",
    "   - W przypadku wykrycia błędu wylistuj dane teleadresowe takich klientów \n",
    "   - Przygotuj zestawienie z danymi kontaktowymi, które zostanie przekazane do zespołu Customer Care, który skontaktuje się z klientem w celu wyjaśnienia sytuacji.\n",
    "   - Zespół Customer Care chciałby otrzymać dane w pliku **csv**\n",
    "\n",
    "## Dostępne narzędzia \n",
    "\n",
    "  - analizę możesz przeprowadzić używając pythona, sqla lub obu narzędzi jednocześnie \n",
    "  - możesz korzystać z internetu, ale nie używaj generatywnej AI\n",
    "  - bardziej niż wynik oceniany będzie sposób jego osiągnięcia, płynność posługiwania się narzędziami i sposób myślenia \n",
    "\n",
    "## Podpowiedź\n",
    "\n",
    "  - count(distinct bledne_przypadki) between 1 and 10 ---> True ;)\n",
    "---\n",
    "\n",
    "# Powodzenia! \n"
   ]
  },
  {
   "cell_type": "code",
   "execution_count": null,
   "id": "b10163b9",
   "metadata": {},
   "outputs": [],
   "source": [
    "import sqlite3\n",
    "import pandas as pd\n",
    "from db_setup import setup_database, modify_random_usage\n",
    "\n",
    "invoices, usage, customers = setup_database()\n",
    "print(\"Przykładowe dane dotyczace faktur:\")\n",
    "display(invoices.head())\n",
    "print(\"Konstrukcja kolumny Description z tabeli invoices\")\n",
    "display(invoices['Description'][0])\n",
    "\n",
    "print(\"Przykładowe dane zużycia energii:\")\n",
    "display(usage.head())\n",
    "\n",
    "print(\"Przykładowe dane klientów:\")\n",
    "display(customers.head())\n",
    "\n",
    "random_index, random_customer_id, old_usage, new_usage, modified_record = modify_random_usage(usage)\n",
    "\n",
    "conn = sqlite3.connect(':memory:')\n",
    "invoices.to_sql('invoices', conn, index=False)\n",
    "usage.to_sql('usage', conn, index=False)\n",
    "customers.to_sql('customers', conn, index=False)\n",
    "def sqlquery(query, conn = conn):\n",
    "    return pd.read_sql_query(query, conn)"
   ]
  },
  {
   "cell_type": "code",
   "execution_count": null,
   "id": "d35fdfa8",
   "metadata": {},
   "outputs": [],
   "source": [
    "query = \"\"\"\n",
    "SELECT \n",
    "    u.* \n",
    "FROM \n",
    "    usage u\n",
    "WHERE \n",
    "    1=1\n",
    "    AND CustomerID = 'CU5940'\n",
    "LIMIT \n",
    "    10\n",
    "\"\"\"\n",
    "sqlquery(query)"
   ]
  }
 ],
 "metadata": {
  "kernelspec": {
   "display_name": "Python 3",
   "language": "python",
   "name": "python3"
  },
  "language_info": {
   "codemirror_mode": {
    "name": "ipython",
    "version": 3
   },
   "file_extension": ".py",
   "mimetype": "text/x-python",
   "name": "python",
   "nbconvert_exporter": "python",
   "pygments_lexer": "ipython3",
   "version": "3.11.4"
  }
 },
 "nbformat": 4,
 "nbformat_minor": 5
}
